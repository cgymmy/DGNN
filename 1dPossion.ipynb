{
 "cells": [
  {
   "cell_type": "markdown",
   "metadata": {},
   "source": [
    "# Possion Equation\n",
    "\n",
    "\\begin{equation}\n",
    "    \\left\\{\n",
    "    \\begin{aligned}\n",
    "        &-\\frac{\\partial^2u}{\\partial x^2}(x) = f(x) \\qquad x\\in \\Omega=(0,\\frac{3}{2})\\\\\n",
    "        &u(x)=g(x)\\qquad x\\in \\partial \\Omega\n",
    "    \\end{aligned}\n",
    "    \\right.\n",
    "\\end{equation}\n",
    "We construct the equation by the real solution $u(x)=xcos(\\omega x)$, having corresponding source term $f(x)$ and boundary condition $g(x)$. We use DGNet to approximate the target function. We can test $w=3\\pi$ or $15\\pi$"
   ]
  },
  {
   "cell_type": "markdown",
   "metadata": {},
   "source": [
    "## DGNet"
   ]
  },
  {
   "cell_type": "code",
   "execution_count": 1,
   "metadata": {},
   "outputs": [],
   "source": [
    "import torch\n",
    "import torch.nn as nn\n",
    "import torch.nn.functional as F\n",
    "import matplotlib.pyplot as plt\n",
    "import math\n",
    "import os\n",
    "from math import pi\n",
    "import numpy as np\n",
    "import time\n",
    "from torch.utils.tensorboard import SummaryWriter\n",
    "from utilities import *\n",
    "from problems import *\n",
    "device = torch.device('cuda:0' if torch.cuda.is_available() else 'cpu')"
   ]
  },
  {
   "cell_type": "markdown",
   "metadata": {},
   "source": [
    "### Test about the hyperparameters: $N_{int}, N_x, deg$"
   ]
  },
  {
   "cell_type": "code",
   "execution_count": 2,
   "metadata": {},
   "outputs": [],
   "source": [
    "# N_int_values = [5, 10, 15, 20, 25, 30]\n",
    "# N_x_values = [2, 5, 10, 30, 100, 1000, 10000]\n",
    "# N_deg = [3, 5, 10, 20, 40]\n",
    "\n",
    "## Nint, N_X\n",
    "# losses = np.zeros((len(N_int_values), len(N_x_values)))\n",
    "# for i, N_int in enumerate(N_int_values):\n",
    "#     for j, N_x in enumerate(N_x_values):\n",
    "#         P = Poisson1D_dg(N_x=N_x, N_int=N_int, deg=5)\n",
    "#         losses[i, j] = P.exact_loss()\n",
    "# plt.figure(figsize=(8, 6))\n",
    "# im = plt.imshow(np.log(losses), cmap='viridis', origin='upper', aspect='auto')\n",
    "# plt.colorbar(im, label='log(loss)')\n",
    "# plt.xticks(range(len(N_x_values)), labels=[f\"{n}\" for n in N_x_values])\n",
    "# plt.yticks(range(len(N_int_values)), labels=[f\"{n}\" for n in N_int_values])\n",
    "# plt.xlabel(r'Number of intervals $N$')\n",
    "# plt.ylabel(r'Number of integration points $N_{int}$')\n",
    "# plt.title('Exact Loss as a Function of $N$ and $N_{int}$')\n",
    "# plt.show()\n",
    "\n",
    "## N_int, deg\n",
    "# losses = np.zeros((len(N_deg), len(N_x_values)))\n",
    "# for i, deg in enumerate(N_deg):\n",
    "#     for j, N_x in enumerate(N_x_values):\n",
    "#         P = Poisson1D_dg(N_x=N_x, N_int=15, deg=deg)\n",
    "#         losses[i, j] = P.exact_loss()\n",
    "\n",
    "# plt.figure(figsize=(8, 6))\n",
    "# im = plt.imshow(np.log(losses), cmap='viridis', origin='upper', aspect='auto')\n",
    "# plt.colorbar(im, label='log(loss)')\n",
    "# plt.xticks(range(len(N_x_values)), labels=[f\"{n}\" for n in N_x_values])\n",
    "# plt.yticks(range(len(N_deg)), labels=[f\"{n}\" for n in N_deg])\n",
    "# plt.xlabel(r'Number of intervals $N$')\n",
    "# plt.ylabel(r'Order of test function $p$')\n",
    "# plt.title('Exact Loss as a Function of $N_{x}$ and $p$')\n",
    "# plt.show()\n"
   ]
  },
  {
   "cell_type": "code",
   "execution_count": 2,
   "metadata": {},
   "outputs": [
    {
     "name": "stdout",
     "output_type": "stream",
     "text": [
      "Loading saved model...\n"
     ]
    },
    {
     "name": "stderr",
     "output_type": "stream",
     "text": [
      "/root/anaconda3/lib/python3.9/site-packages/torch/nn/functional.py:1949: UserWarning: nn.functional.tanh is deprecated. Use torch.tanh instead.\n",
      "  warnings.warn(\"nn.functional.tanh is deprecated. Use torch.tanh instead.\")\n"
     ]
    },
    {
     "name": "stdout",
     "output_type": "stream",
     "text": [
      "train loss:  (tensor(5542.5065, device='cuda:0', dtype=torch.float64, grad_fn=<AddBackward0>), tensor(3.2942, device='cuda:0', dtype=torch.float64, grad_fn=<MaxBackward1>), tensor(3.4807, device='cuda:0', dtype=torch.float64, grad_fn=<MeanBackward0>))\n"
     ]
    }
   ],
   "source": [
    "P = Poisson1D_dg(N_x=25, N_int=20, deg=5)\n",
    "# retrain = True\n",
    "retrain = False\n",
    "if retrain:\n",
    "    P.load()\n",
    "    P.train()\n",
    "elif P.load() and not retrain:\n",
    "    print(\"train loss: \", P.loss())"
   ]
  },
  {
   "cell_type": "code",
   "execution_count": 40,
   "metadata": {},
   "outputs": [
    {
     "name": "stdout",
     "output_type": "stream",
     "text": [
      "(tensor(1.0891e-05, device='cuda:0', dtype=torch.float64,\n",
      "       grad_fn=<AddBackward0>), tensor(0.0004, device='cuda:0', dtype=torch.float64, grad_fn=<MaxBackward1>), tensor(2.3288e-08, device='cuda:0', dtype=torch.float64,\n",
      "       grad_fn=<MeanBackward0>))\n"
     ]
    }
   ],
   "source": [
    "print(P.loss())"
   ]
  },
  {
   "cell_type": "code",
   "execution_count": 41,
   "metadata": {},
   "outputs": [
    {
     "name": "stdout",
     "output_type": "stream",
     "text": [
      "No saved model found. Training the model...\n",
      "(tensor(1.0891e-05, device='cuda:0', dtype=torch.float64,\n",
      "       grad_fn=<AddBackward0>), tensor(0.0004, device='cuda:0', dtype=torch.float64, grad_fn=<MaxBackward1>), tensor(2.3288e-08, device='cuda:0', dtype=torch.float64,\n",
      "       grad_fn=<MeanBackward0>)) tensor(1.2225e-26, device='cuda:0', dtype=torch.float64)\n"
     ]
    },
    {
     "data": {
      "image/png": "[encoded data removed]",
      "text/plain": [
       "<Figure size 432x288 with 1 Axes>"
      ]
     },
     "metadata": {
      "needs_background": "light"
     },
     "output_type": "display_data"
    }
   ],
   "source": [
    "path = f'./models/{P.name}.pth'\n",
    "if os.path.exists(path):\n",
    "    print(\"Loading saved model...\")\n",
    "    model_dict = torch.load(path)\n",
    "    P.model.load_state_dict(model_dict)\n",
    "else:\n",
    "    print(\"No saved model found. Training the model...\")\n",
    "print(P.loss(), P.exact_loss())\n",
    "x = P.Mesh\n",
    "y = P.model(x[..., None])\n",
    "y = y.cpu().detach().numpy().flatten()\n",
    "y_exact = P.exact(x)\n",
    "x = x.cpu().detach().numpy().flatten()\n",
    "y_exact = y_exact.cpu().detach().numpy().flatten()\n",
    "err = abs(y-y_exact)\n",
    "np.savetxt(\"DGerror.csv\", np.column_stack((x, err)), delimiter=\",\", header=\"x,err\", comments='')\n",
    "\n",
    "# plt.plot(x, y)\n",
    "# plt.plot(x, y_exact)\n",
    "plt.plot(x,err)\n",
    "plt.yscale('log')\n",
    "plt.show()"
   ]
  },
  {
   "cell_type": "markdown",
   "metadata": {},
   "source": [
    "## Here we do the baselines: PINN, DeepRitz, and hpVPINN"
   ]
  },
  {
   "cell_type": "markdown",
   "metadata": {},
   "source": [
    "### train"
   ]
  },
  {
   "cell_type": "code",
   "execution_count": 44,
   "metadata": {},
   "outputs": [
    {
     "name": "stdout",
     "output_type": "stream",
     "text": [
      "*********** Started training ...... ***************\n"
     ]
    },
    {
     "name": "stderr",
     "output_type": "stream",
     "text": [
      "/root/anaconda3/lib/python3.9/site-packages/torch/nn/functional.py:1949: UserWarning: nn.functional.tanh is deprecated. Use torch.tanh instead.\n",
      "  warnings.warn(\"nn.functional.tanh is deprecated. Use torch.tanh instead.\")\n"
     ]
    },
    {
     "name": "stdout",
     "output_type": "stream",
     "text": [
      "Epoch 100: Loss = 3198.596680, mse = 0.336915, mae = 1.161096\n",
      "Epoch 200: Loss = 3192.238281, mse = 0.350054, mae = 1.217431\n",
      "Epoch 300: Loss = 3178.068848, mse = 0.389990, mae = 1.233157\n",
      "Epoch 400: Loss = 3115.321533, mse = 0.450762, mae = 1.262747\n",
      "Epoch 500: Loss = 2567.757080, mse = 0.669282, mae = 1.855464\n",
      "Epoch 600: Loss = 1452.561401, mse = 1.174881, mae = 2.725711\n",
      "Epoch 700: Loss = 1006.730469, mse = 2.643869, mae = 3.043758\n",
      "Epoch 800: Loss = 877.860657, mse = 2.172504, mae = 2.638177\n",
      "Epoch 900: Loss = 758.327698, mse = 1.192717, mae = 1.925867\n",
      "Epoch 1000: Loss = 573.936096, mse = 0.989134, mae = 1.554832\n",
      "Epoch 1100: Loss = 387.706665, mse = 1.461722, mae = 2.115750\n",
      "Epoch 1200: Loss = 326.449921, mse = 1.937840, mae = 2.402537\n",
      "Epoch 1300: Loss = 307.234375, mse = 2.143224, mae = 2.496244\n",
      "Epoch 1400: Loss = 295.927002, mse = 2.208135, mae = 2.519856\n",
      "Epoch 1500: Loss = 287.557892, mse = 2.202304, mae = 2.513197\n",
      "Epoch 1600: Loss = 280.023224, mse = 2.177246, mae = 2.498209\n",
      "Epoch 1700: Loss = 273.769806, mse = 2.137603, mae = 2.476158\n",
      "Epoch 1800: Loss = 268.530487, mse = 2.086756, mae = 2.449101\n",
      "Epoch 1900: Loss = 264.178253, mse = 2.031930, mae = 2.420164\n",
      "Unexpected exception formatting exception. Falling back to standard exception\n"
     ]
    },
    {
     "name": "stderr",
     "output_type": "stream",
     "text": [
      "Traceback (most recent call last):\n",
      "  File \"/root/anaconda3/lib/python3.9/site-packages/IPython/core/interactiveshell.py\", line 3369, in run_code\n",
      "    exec(code_obj, self.user_global_ns, self.user_ns)\n",
      "  File \"/tmp/ipykernel_10654/3673320067.py\", line 2, in <cell line: 2>\n",
      "    P.train()\n",
      "  File \"/tmp/ipykernel_10654/1755049000.py\", line 132, in train\n",
      "    loss, mae, mse = self.loss()\n",
      "  File \"/tmp/ipykernel_10654/1755049000.py\", line 68, in loss\n",
      "    return self.pinn()\n",
      "  File \"/tmp/ipykernel_10654/1755049000.py\", line 78, in pinn\n",
      "    u = self.model(self.mesh)\n",
      "  File \"/root/anaconda3/lib/python3.9/site-packages/torch/nn/modules/module.py\", line 1130, in _call_impl\n",
      "    return forward_call(*input, **kwargs)\n",
      "  File \"/home/data/update_dg/zzzupdate/utilities.py\", line 276, in forward\n",
      "    x = self.activation(layer(x))\n",
      "  File \"/root/anaconda3/lib/python3.9/site-packages/torch/nn/modules/module.py\", line 1130, in _call_impl\n",
      "    return forward_call(*input, **kwargs)\n",
      "  File \"/root/anaconda3/lib/python3.9/site-packages/torch/nn/modules/linear.py\", line 114, in forward\n",
      "    return F.linear(input, self.weight, self.bias)\n",
      "KeyboardInterrupt\n",
      "\n",
      "During handling of the above exception, another exception occurred:\n",
      "\n",
      "Traceback (most recent call last):\n",
      "  File \"/root/anaconda3/lib/python3.9/site-packages/IPython/core/interactiveshell.py\", line 1982, in showtraceback\n",
      "    stb = self.InteractiveTB.structured_traceback(\n",
      "  File \"/root/anaconda3/lib/python3.9/site-packages/IPython/core/ultratb.py\", line 1118, in structured_traceback\n",
      "    return FormattedTB.structured_traceback(\n",
      "  File \"/root/anaconda3/lib/python3.9/site-packages/IPython/core/ultratb.py\", line 1012, in structured_traceback\n",
      "    return VerboseTB.structured_traceback(\n",
      "  File \"/root/anaconda3/lib/python3.9/site-packages/IPython/core/ultratb.py\", line 865, in structured_traceback\n",
      "    formatted_exception = self.format_exception_as_a_whole(etype, evalue, etb, number_of_lines_of_context,\n",
      "  File \"/root/anaconda3/lib/python3.9/site-packages/IPython/core/ultratb.py\", line 818, in format_exception_as_a_whole\n",
      "    frames.append(self.format_record(r))\n",
      "  File \"/root/anaconda3/lib/python3.9/site-packages/IPython/core/ultratb.py\", line 736, in format_record\n",
      "    result += ''.join(_format_traceback_lines(frame_info.lines, Colors, self.has_colors, lvals))\n",
      "  File \"/root/anaconda3/lib/python3.9/site-packages/stack_data/utils.py\", line 145, in cached_property_wrapper\n",
      "    value = obj.__dict__[self.func.__name__] = self.func(obj)\n",
      "  File \"/root/anaconda3/lib/python3.9/site-packages/stack_data/core.py\", line 698, in lines\n",
      "    pieces = self.included_pieces\n",
      "  File \"/root/anaconda3/lib/python3.9/site-packages/stack_data/utils.py\", line 145, in cached_property_wrapper\n",
      "    value = obj.__dict__[self.func.__name__] = self.func(obj)\n",
      "  File \"/root/anaconda3/lib/python3.9/site-packages/stack_data/core.py\", line 645, in included_pieces\n",
      "    scope_pieces = self.scope_pieces\n",
      "  File \"/root/anaconda3/lib/python3.9/site-packages/stack_data/utils.py\", line 145, in cached_property_wrapper\n",
      "    value = obj.__dict__[self.func.__name__] = self.func(obj)\n",
      "  File \"/root/anaconda3/lib/python3.9/site-packages/stack_data/core.py\", line 585, in scope_pieces\n",
      "    for piece in self.source.pieces\n",
      "  File \"/root/anaconda3/lib/python3.9/site-packages/stack_data/utils.py\", line 145, in cached_property_wrapper\n",
      "    value = obj.__dict__[self.func.__name__] = self.func(obj)\n",
      "  File \"/root/anaconda3/lib/python3.9/site-packages/stack_data/core.py\", line 90, in pieces\n",
      "    return list(self._clean_pieces())\n",
      "  File \"/root/anaconda3/lib/python3.9/site-packages/stack_data/core.py\", line 114, in _clean_pieces\n",
      "    raise AssertionError(\"Pieces mismatches: %s\" % mismatches)\n",
      "AssertionError: Pieces mismatches: [{64, 63}]\n"
     ]
    }
   ],
   "source": [
    "P = Poisson1D_base(method='PINN', N_x=10000, N_int=30, num_layers=3, hidden_size=40, deg=3, act='tanh')\n",
    "P.train()"
   ]
  },
  {
   "cell_type": "markdown",
   "metadata": {},
   "source": [
    "### load"
   ]
  },
  {
   "cell_type": "code",
   "execution_count": 20,
   "metadata": {},
   "outputs": [
    {
     "name": "stdout",
     "output_type": "stream",
     "text": [
      "Loading saved model...\n",
      "(tensor(-25.3696, device='cuda:0', dtype=torch.float64, grad_fn=<AddBackward0>), tensor(0.0282, device='cuda:0', grad_fn=<MaxBackward1>), tensor(0.0003, device='cuda:0', grad_fn=<MeanBackward0>))\n"
     ]
    },
    {
     "data": {
      "image/png": "[encoded data removed]",
      "text/plain": [
       "<Figure size 432x288 with 1 Axes>"
      ]
     },
     "metadata": {
      "needs_background": "light"
     },
     "output_type": "display_data"
    }
   ],
   "source": [
    "# P = Poisson1D(method='DeepRitz', N_x=200, N_int=20, num_layers=6, hidden_size=40, deg=3, act='tanh')\n",
    "# P = Poisson1D(method='PINN', N_x=10000, N_int=20, num_layers=6, hidden_size=40, deg=3, act='tanh')\n",
    "P.load()\n",
    "print(P.loss())\n",
    "x = P.mesh\n",
    "y = P.model(x[..., None])\n",
    "y = y.cpu().detach().numpy().flatten()\n",
    "y_exact = P.exact(x)\n",
    "x = x.cpu().detach().numpy().flatten()\n",
    "y_exact = y_exact.cpu().detach().numpy().flatten()\n",
    "err = abs(y-y_exact)\n",
    "np.savetxt(f\"./{P.method}_error.csv\", np.column_stack((x, err)), delimiter=\",\", header=\"x,err\", comments='')\n",
    "\n",
    "plt.plot(x,err)\n",
    "# plt.plot(x, y)\n",
    "# plt.plot(x, y_exact)\n",
    "plt.yscale('log')\n",
    "plt.show()"
   ]
  }
 ],
 "metadata": {
  "kernelspec": {
   "display_name": "base",
   "language": "python",
   "name": "python3"
  },
  "language_info": {
   "codemirror_mode": {
    "name": "ipython",
    "version": 3
   },
   "file_extension": ".py",
   "mimetype": "text/x-python",
   "name": "python",
   "nbconvert_exporter": "python",
   "pygments_lexer": "ipython3",
   "version": "3.9.12"
  }
 },
 "nbformat": 4,
 "nbformat_minor": 2
}
